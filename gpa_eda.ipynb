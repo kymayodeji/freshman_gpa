{
 "cells": [
  {
   "cell_type": "markdown",
   "metadata": {},
   "source": [
    "# Predicting Freshman GPA\n",
    "\n",
    "### A. Import Libraries and Packages"
   ]
  },
  {
   "cell_type": "code",
   "execution_count": 8,
   "metadata": {},
   "outputs": [],
   "source": [
    "# import libraries\n",
    "\n",
    "# Numeric\n",
    "import numpy as np\n",
    "import pandas as pd\n",
    "\n",
    "# Visualization\n",
    "import matplotlib.pyplot as plt\n",
    "import seaborn as sns"
   ]
  },
  {
   "cell_type": "markdown",
   "metadata": {},
   "source": [
    "### B. Load Data"
   ]
  },
  {
   "cell_type": "code",
   "execution_count": 2,
   "metadata": {},
   "outputs": [],
   "source": [
    "# Load data \n",
    "data = pd.read_csv(\"data/satgpa.csv\", sep=',')"
   ]
  },
  {
   "cell_type": "markdown",
   "metadata": {},
   "source": [
    "### C. Data Cleaning and EDA"
   ]
  },
  {
   "cell_type": "code",
   "execution_count": 3,
   "metadata": {},
   "outputs": [
    {
     "data": {
      "text/html": [
       "<div>\n",
       "<style scoped>\n",
       "    .dataframe tbody tr th:only-of-type {\n",
       "        vertical-align: middle;\n",
       "    }\n",
       "\n",
       "    .dataframe tbody tr th {\n",
       "        vertical-align: top;\n",
       "    }\n",
       "\n",
       "    .dataframe thead th {\n",
       "        text-align: right;\n",
       "    }\n",
       "</style>\n",
       "<table border=\"1\" class=\"dataframe\">\n",
       "  <thead>\n",
       "    <tr style=\"text-align: right;\">\n",
       "      <th></th>\n",
       "      <th>sex</th>\n",
       "      <th>sat_v</th>\n",
       "      <th>sat_m</th>\n",
       "      <th>sat_sum</th>\n",
       "      <th>hs_gpa</th>\n",
       "      <th>fy_gpa</th>\n",
       "    </tr>\n",
       "  </thead>\n",
       "  <tbody>\n",
       "    <tr>\n",
       "      <th>0</th>\n",
       "      <td>1</td>\n",
       "      <td>65</td>\n",
       "      <td>62</td>\n",
       "      <td>127</td>\n",
       "      <td>3.40</td>\n",
       "      <td>3.18</td>\n",
       "    </tr>\n",
       "    <tr>\n",
       "      <th>1</th>\n",
       "      <td>2</td>\n",
       "      <td>58</td>\n",
       "      <td>64</td>\n",
       "      <td>122</td>\n",
       "      <td>4.00</td>\n",
       "      <td>3.33</td>\n",
       "    </tr>\n",
       "    <tr>\n",
       "      <th>2</th>\n",
       "      <td>2</td>\n",
       "      <td>56</td>\n",
       "      <td>60</td>\n",
       "      <td>116</td>\n",
       "      <td>3.75</td>\n",
       "      <td>3.25</td>\n",
       "    </tr>\n",
       "    <tr>\n",
       "      <th>3</th>\n",
       "      <td>1</td>\n",
       "      <td>42</td>\n",
       "      <td>53</td>\n",
       "      <td>95</td>\n",
       "      <td>3.75</td>\n",
       "      <td>2.42</td>\n",
       "    </tr>\n",
       "    <tr>\n",
       "      <th>4</th>\n",
       "      <td>1</td>\n",
       "      <td>55</td>\n",
       "      <td>52</td>\n",
       "      <td>107</td>\n",
       "      <td>4.00</td>\n",
       "      <td>2.63</td>\n",
       "    </tr>\n",
       "  </tbody>\n",
       "</table>\n",
       "</div>"
      ],
      "text/plain": [
       "   sex  sat_v  sat_m  sat_sum  hs_gpa  fy_gpa\n",
       "0    1     65     62      127    3.40    3.18\n",
       "1    2     58     64      122    4.00    3.33\n",
       "2    2     56     60      116    3.75    3.25\n",
       "3    1     42     53       95    3.75    2.42\n",
       "4    1     55     52      107    4.00    2.63"
      ]
     },
     "execution_count": 3,
     "metadata": {},
     "output_type": "execute_result"
    }
   ],
   "source": [
    "data.head()"
   ]
  },
  {
   "cell_type": "code",
   "execution_count": 4,
   "metadata": {},
   "outputs": [
    {
     "name": "stdout",
     "output_type": "stream",
     "text": [
      "<class 'pandas.core.frame.DataFrame'>\n",
      "RangeIndex: 1000 entries, 0 to 999\n",
      "Data columns (total 6 columns):\n",
      " #   Column   Non-Null Count  Dtype  \n",
      "---  ------   --------------  -----  \n",
      " 0   sex      1000 non-null   int64  \n",
      " 1   sat_v    1000 non-null   int64  \n",
      " 2   sat_m    1000 non-null   int64  \n",
      " 3   sat_sum  1000 non-null   int64  \n",
      " 4   hs_gpa   1000 non-null   float64\n",
      " 5   fy_gpa   1000 non-null   float64\n",
      "dtypes: float64(2), int64(4)\n",
      "memory usage: 47.0 KB\n"
     ]
    }
   ],
   "source": [
    "data.info()"
   ]
  },
  {
   "cell_type": "code",
   "execution_count": 11,
   "metadata": {},
   "outputs": [
    {
     "data": {
      "text/plain": [
       "0"
      ]
     },
     "execution_count": 11,
     "metadata": {},
     "output_type": "execute_result"
    }
   ],
   "source": [
    "# Look for Duplicates\n",
    "data.duplicated().sum()"
   ]
  },
  {
   "cell_type": "code",
   "execution_count": 5,
   "metadata": {},
   "outputs": [
    {
     "data": {
      "text/html": [
       "<div>\n",
       "<style scoped>\n",
       "    .dataframe tbody tr th:only-of-type {\n",
       "        vertical-align: middle;\n",
       "    }\n",
       "\n",
       "    .dataframe tbody tr th {\n",
       "        vertical-align: top;\n",
       "    }\n",
       "\n",
       "    .dataframe thead th {\n",
       "        text-align: right;\n",
       "    }\n",
       "</style>\n",
       "<table border=\"1\" class=\"dataframe\">\n",
       "  <thead>\n",
       "    <tr style=\"text-align: right;\">\n",
       "      <th></th>\n",
       "      <th>count</th>\n",
       "      <th>mean</th>\n",
       "      <th>std</th>\n",
       "      <th>min</th>\n",
       "      <th>25%</th>\n",
       "      <th>50%</th>\n",
       "      <th>75%</th>\n",
       "      <th>max</th>\n",
       "    </tr>\n",
       "  </thead>\n",
       "  <tbody>\n",
       "    <tr>\n",
       "      <th>sex</th>\n",
       "      <td>1000.0</td>\n",
       "      <td>1.48400</td>\n",
       "      <td>0.499994</td>\n",
       "      <td>1.0</td>\n",
       "      <td>1.00</td>\n",
       "      <td>1.000</td>\n",
       "      <td>2.00</td>\n",
       "      <td>2.0</td>\n",
       "    </tr>\n",
       "    <tr>\n",
       "      <th>sat_v</th>\n",
       "      <td>1000.0</td>\n",
       "      <td>48.93400</td>\n",
       "      <td>8.233920</td>\n",
       "      <td>24.0</td>\n",
       "      <td>43.00</td>\n",
       "      <td>49.000</td>\n",
       "      <td>54.00</td>\n",
       "      <td>76.0</td>\n",
       "    </tr>\n",
       "    <tr>\n",
       "      <th>sat_m</th>\n",
       "      <td>1000.0</td>\n",
       "      <td>54.39500</td>\n",
       "      <td>8.450111</td>\n",
       "      <td>29.0</td>\n",
       "      <td>49.00</td>\n",
       "      <td>55.000</td>\n",
       "      <td>60.00</td>\n",
       "      <td>77.0</td>\n",
       "    </tr>\n",
       "    <tr>\n",
       "      <th>sat_sum</th>\n",
       "      <td>1000.0</td>\n",
       "      <td>103.32900</td>\n",
       "      <td>14.287368</td>\n",
       "      <td>53.0</td>\n",
       "      <td>93.00</td>\n",
       "      <td>103.000</td>\n",
       "      <td>113.00</td>\n",
       "      <td>144.0</td>\n",
       "    </tr>\n",
       "    <tr>\n",
       "      <th>hs_gpa</th>\n",
       "      <td>1000.0</td>\n",
       "      <td>3.19810</td>\n",
       "      <td>0.541647</td>\n",
       "      <td>1.8</td>\n",
       "      <td>2.80</td>\n",
       "      <td>3.200</td>\n",
       "      <td>3.70</td>\n",
       "      <td>4.5</td>\n",
       "    </tr>\n",
       "    <tr>\n",
       "      <th>fy_gpa</th>\n",
       "      <td>1000.0</td>\n",
       "      <td>2.46795</td>\n",
       "      <td>0.740805</td>\n",
       "      <td>0.0</td>\n",
       "      <td>1.98</td>\n",
       "      <td>2.465</td>\n",
       "      <td>3.02</td>\n",
       "      <td>4.0</td>\n",
       "    </tr>\n",
       "  </tbody>\n",
       "</table>\n",
       "</div>"
      ],
      "text/plain": [
       "          count       mean        std   min    25%      50%     75%    max\n",
       "sex      1000.0    1.48400   0.499994   1.0   1.00    1.000    2.00    2.0\n",
       "sat_v    1000.0   48.93400   8.233920  24.0  43.00   49.000   54.00   76.0\n",
       "sat_m    1000.0   54.39500   8.450111  29.0  49.00   55.000   60.00   77.0\n",
       "sat_sum  1000.0  103.32900  14.287368  53.0  93.00  103.000  113.00  144.0\n",
       "hs_gpa   1000.0    3.19810   0.541647   1.8   2.80    3.200    3.70    4.5\n",
       "fy_gpa   1000.0    2.46795   0.740805   0.0   1.98    2.465    3.02    4.0"
      ]
     },
     "execution_count": 5,
     "metadata": {},
     "output_type": "execute_result"
    }
   ],
   "source": [
    "data.describe().T"
   ]
  },
  {
   "cell_type": "code",
   "execution_count": 10,
   "metadata": {},
   "outputs": [
    {
     "data": {
      "text/html": [
       "<div>\n",
       "<style scoped>\n",
       "    .dataframe tbody tr th:only-of-type {\n",
       "        vertical-align: middle;\n",
       "    }\n",
       "\n",
       "    .dataframe tbody tr th {\n",
       "        vertical-align: top;\n",
       "    }\n",
       "\n",
       "    .dataframe thead th {\n",
       "        text-align: right;\n",
       "    }\n",
       "</style>\n",
       "<table border=\"1\" class=\"dataframe\">\n",
       "  <thead>\n",
       "    <tr style=\"text-align: right;\">\n",
       "      <th></th>\n",
       "      <th>sex</th>\n",
       "      <th>sat_v</th>\n",
       "      <th>sat_m</th>\n",
       "      <th>sat_sum</th>\n",
       "      <th>hs_gpa</th>\n",
       "      <th>fy_gpa</th>\n",
       "    </tr>\n",
       "  </thead>\n",
       "  <tbody>\n",
       "    <tr>\n",
       "      <th>sex</th>\n",
       "      <td>1.000000</td>\n",
       "      <td>-0.039160</td>\n",
       "      <td>-0.252366</td>\n",
       "      <td>-0.171827</td>\n",
       "      <td>0.141008</td>\n",
       "      <td>0.100242</td>\n",
       "    </tr>\n",
       "    <tr>\n",
       "      <th>sat_v</th>\n",
       "      <td>-0.039160</td>\n",
       "      <td>1.000000</td>\n",
       "      <td>0.466581</td>\n",
       "      <td>0.852262</td>\n",
       "      <td>0.359500</td>\n",
       "      <td>0.401390</td>\n",
       "    </tr>\n",
       "    <tr>\n",
       "      <th>sat_m</th>\n",
       "      <td>-0.252366</td>\n",
       "      <td>0.466581</td>\n",
       "      <td>1.000000</td>\n",
       "      <td>0.860333</td>\n",
       "      <td>0.378070</td>\n",
       "      <td>0.387118</td>\n",
       "    </tr>\n",
       "    <tr>\n",
       "      <th>sat_sum</th>\n",
       "      <td>-0.171827</td>\n",
       "      <td>0.852262</td>\n",
       "      <td>0.860333</td>\n",
       "      <td>1.000000</td>\n",
       "      <td>0.430788</td>\n",
       "      <td>0.460281</td>\n",
       "    </tr>\n",
       "    <tr>\n",
       "      <th>hs_gpa</th>\n",
       "      <td>0.141008</td>\n",
       "      <td>0.359500</td>\n",
       "      <td>0.378070</td>\n",
       "      <td>0.430788</td>\n",
       "      <td>1.000000</td>\n",
       "      <td>0.543353</td>\n",
       "    </tr>\n",
       "    <tr>\n",
       "      <th>fy_gpa</th>\n",
       "      <td>0.100242</td>\n",
       "      <td>0.401390</td>\n",
       "      <td>0.387118</td>\n",
       "      <td>0.460281</td>\n",
       "      <td>0.543353</td>\n",
       "      <td>1.000000</td>\n",
       "    </tr>\n",
       "  </tbody>\n",
       "</table>\n",
       "</div>"
      ],
      "text/plain": [
       "              sex     sat_v     sat_m   sat_sum    hs_gpa    fy_gpa\n",
       "sex      1.000000 -0.039160 -0.252366 -0.171827  0.141008  0.100242\n",
       "sat_v   -0.039160  1.000000  0.466581  0.852262  0.359500  0.401390\n",
       "sat_m   -0.252366  0.466581  1.000000  0.860333  0.378070  0.387118\n",
       "sat_sum -0.171827  0.852262  0.860333  1.000000  0.430788  0.460281\n",
       "hs_gpa   0.141008  0.359500  0.378070  0.430788  1.000000  0.543353\n",
       "fy_gpa   0.100242  0.401390  0.387118  0.460281  0.543353  1.000000"
      ]
     },
     "execution_count": 10,
     "metadata": {},
     "output_type": "execute_result"
    }
   ],
   "source": [
    "data.corr()"
   ]
  },
  {
   "cell_type": "code",
   "execution_count": 13,
   "metadata": {},
   "outputs": [
    {
     "data": {
      "text/plain": [
       "<Axes: >"
      ]
     },
     "execution_count": 13,
     "metadata": {},
     "output_type": "execute_result"
    },
    {
     "data": {
      "image/png": "[encoded data removed]",
      "text/plain": [
       "<Figure size 600x200 with 2 Axes>"
      ]
     },
     "metadata": {},
     "output_type": "display_data"
    }
   ],
   "source": [
    "fig, ax = plt.subplots(figsize=(6,2)) \n",
    "sns.heatmap(data.corr())"
   ]
  },
  {
   "cell_type": "code",
   "execution_count": 28,
   "metadata": {},
   "outputs": [],
   "source": [
    "def eda_subplots(data_df):\n",
    "    # Define the layout of subplots\n",
    "    # Determine the number of subplot rows/columns needed\n",
    "    num_columns = len(data_df.columns)\n",
    "    # For simplicity, creating a square layout or as close to square as possible\n",
    "    n_cols = int(np.ceil(np.sqrt(num_columns)))\n",
    "    n_rows = int(np.ceil(num_columns / n_cols))\n",
    "\n",
    "    # Creating the figure and axes for subplots\n",
    "    fig, axes = plt.subplots(nrows=n_rows, ncols=n_cols, figsize=(5*n_rows, 3*n_cols))\n",
    "\n",
    "    # Iterate over each column to plot\n",
    "    for i, column in enumerate(data_df.columns):\n",
    "       \n",
    "        # Check if axes is a single-dimensional array\n",
    "        if n_rows == 1 or n_cols == 1:\n",
    "            ax = axes[i]\n",
    "        else:\n",
    "            # For a 2D array of subplots, index with row and column\n",
    "            row, col = i // n_cols, i % n_cols\n",
    "            ax = axes[row, col]\n",
    "    \n",
    "        # Plot histogram\n",
    "        sns.histplot(\n",
    "            data=data_df, x=column, kde=False, ax=ax, bins=50\n",
    "        )\n",
    "        ax.set_title(f'{column} Plot')\n",
    "\n",
    "    plt.tight_layout()\n",
    "    plt.show()\n"
   ]
  },
  {
   "cell_type": "code",
   "execution_count": 29,
   "metadata": {},
   "outputs": [
    {
     "data": {
      "image/png": "[encoded data removed]",
      "text/plain": [
       "<Figure size 1000x900 with 6 Axes>"
      ]
     },
     "metadata": {},
     "output_type": "display_data"
    }
   ],
   "source": [
    "eda_subplots(data)"
   ]
  },
  {
   "cell_type": "markdown",
   "metadata": {},
   "source": [
    "#### B. Insights:\n",
    "* 1000 rows of data with 6 columns\n",
    "*  No empty or duplicated rows or missing values\n",
    "* All data is numeric\n",
    "* sat_sum is highly correlated with sat_v and sat_m, thus can be dropped to reduce dimensionality"
   ]
  },
  {
   "cell_type": "code",
   "execution_count": 14,
   "metadata": {},
   "outputs": [
    {
     "data": {
      "text/plain": [
       "(1000, 5)"
      ]
     },
     "execution_count": 14,
     "metadata": {},
     "output_type": "execute_result"
    }
   ],
   "source": [
    "df = data.drop(columns = ['sat_sum'])\n",
    "df.shape"
   ]
  }
 ],
 "metadata": {
  "kernelspec": {
   "display_name": "py38",
   "language": "python",
   "name": "python3"
  },
  "language_info": {
   "codemirror_mode": {
    "name": "ipython",
    "version": 3
   },
   "file_extension": ".py",
   "mimetype": "text/x-python",
   "name": "python",
   "nbconvert_exporter": "python",
   "pygments_lexer": "ipython3",
   "version": "3.8.18"
  }
 },
 "nbformat": 4,
 "nbformat_minor": 2
}
